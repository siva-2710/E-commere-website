{
 "cells": [
  {
   "cell_type": "code",
   "execution_count": 3,
   "metadata": {},
   "outputs": [
    {
     "name": "stdout",
     "output_type": "stream",
     "text": [
      "The entered string is a palindrome.\n"
     ]
    }
   ],
   "source": [
    "def is_palindrome(user_input):\n",
    "    \n",
    "    l = user_input.lower()\n",
    "    \n",
    "    return user_input == l[::-1]\n",
    "    \n",
    "user_input = input(\"Enter a string: \")\n",
    "\n",
    "# Check if the entered string is a palindrome\n",
    "if is_palindrome(user_input):\n",
    "    print(\"The entered string is a palindrome.\")\n",
    "else:\n",
    "    print(\"The entered string is not a palindrome.\")"
   ]
  }
 ],
 "metadata": {
  "kernelspec": {
   "display_name": "Python 3",
   "language": "python",
   "name": "python3"
  },
  "language_info": {
   "codemirror_mode": {
    "name": "ipython",
    "version": 3
   },
   "file_extension": ".py",
   "mimetype": "text/x-python",
   "name": "python",
   "nbconvert_exporter": "python",
   "pygments_lexer": "ipython3",
   "version": "3.12.0"
  }
 },
 "nbformat": 4,
 "nbformat_minor": 2
}
